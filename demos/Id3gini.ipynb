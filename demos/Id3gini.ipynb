{
 "cells": [
  {
   "cell_type": "markdown",
   "id": "fea51763",
   "metadata": {},
   "source": [
    "Id3gini Demo"
   ]
  },
  {
   "cell_type": "code",
   "execution_count": null,
   "id": "34fd98c0-004e-441a-9b3a-868b8ee9a9f0",
   "metadata": {},
   "outputs": [],
   "source": [
    ":l Id3gini.hs"
   ]
  },
  {
   "cell_type": "code",
   "execution_count": null,
   "id": "4f89f2ec",
   "metadata": {},
   "outputs": [],
   "source": [
    "import Id3gini"
   ]
  },
  {
   "cell_type": "markdown",
   "id": "ddcd07dd",
   "metadata": {},
   "source": [
    "Default run"
   ]
  },
  {
   "cell_type": "code",
   "execution_count": null,
   "id": "44f6ec74",
   "metadata": {},
   "outputs": [],
   "source": [
    "Id3gini.main"
   ]
  },
  {
   "cell_type": "markdown",
   "id": "718b949c",
   "metadata": {},
   "source": [
    "Run with specific inputs"
   ]
  },
  {
   "cell_type": "code",
   "execution_count": null,
   "id": "ec23c761",
   "metadata": {},
   "outputs": [],
   "source": [
    "import System.Environment (setEnv, getEnv)\n",
    "\n",
    "setEnv \"-i\" \"2\"\n",
    "Id3gini.main"
   ]
  }
 ],
 "metadata": {
  "kernelspec": {
   "display_name": "Haskell",
   "language": "haskell",
   "name": "haskell"
  },
  "language_info": {
   "codemirror_mode": "ihaskell",
   "file_extension": ".hs",
   "mimetype": "text/x-haskell",
   "name": "haskell",
   "pygments_lexer": "Haskell",
   "version": "9.4.5"
  }
 },
 "nbformat": 4,
 "nbformat_minor": 5
}
